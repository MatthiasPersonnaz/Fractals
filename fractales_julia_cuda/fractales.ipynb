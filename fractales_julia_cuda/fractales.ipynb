{
 "cells": [
  {
   "cell_type": "markdown",
   "metadata": {},
   "source": [
    "# Génération de fractales en Julia avec le GPU sur Cuda\n",
    "## Ensemble de Julia"
   ]
  },
  {
   "cell_type": "code",
   "execution_count": 1,
   "metadata": {},
   "outputs": [],
   "source": [
    "using CUDA\n",
    "using Plots\n",
    "const THREADS_PER_BLOCK = 256;"
   ]
  },
  {
   "cell_type": "code",
   "execution_count": 2,
   "metadata": {},
   "outputs": [
    {
     "data": {
      "text/plain": [
       "construct_meshgrid (generic function with 1 method)"
      ]
     },
     "metadata": {},
     "output_type": "display_data"
    }
   ],
   "source": [
    "function construct_meshgrid(Nx::Int64, Ny::Int64, x_min::Float64, x_max::Float64, y_min::Float64, y_max::Float64)\n",
    "    δx = (x_max-x_min)/(Nx-1);\n",
    "    δy = (y_max-y_min)/(Ny-1);\n",
    "    xs = Vector(x_min:δx:x_max);\n",
    "    ys = Vector(y_min:δy:y_max);\n",
    "    @assert length(xs) == Nx;\n",
    "    @assert length(ys) == Ny;\n",
    "    xg = ones(Ny)' .* xs;\n",
    "    yg = ys' .* ones(Nx);\n",
    "    return xs, ys, xg + 1im*yg\n",
    "end"
   ]
  },
  {
   "cell_type": "code",
   "execution_count": 3,
   "metadata": {},
   "outputs": [
    {
     "data": {
      "text/plain": [
       "compute_julia_fractal (generic function with 1 method)"
      ]
     },
     "metadata": {},
     "output_type": "display_data"
    }
   ],
   "source": [
    "function julia_set!(t::CuDeviceVector{ComplexF32}, c::ComplexF32, maxiter::Int64, steps::CuDeviceVector{Int32})\n",
    "    i = threadIdx().x + (blockIdx().x - 1) * blockDim().x\n",
    "\n",
    "    if i <= length(t)\n",
    "        ind = Int32(0);\n",
    "        while (abs2(t[i]) < 4 && ind < maxiter)\n",
    "            t[i] = t[i]*t[i] + c;\n",
    "            ind += 1;\n",
    "        end\n",
    "        steps[i] = ind;\n",
    "    end\n",
    "    return nothing\n",
    "end\n",
    "\n",
    "\n",
    "function compute_julia_fractal(Nx, Ny, x_min, x_max, y_min, y_max, elty, c_val, max_iter)\n",
    "    # construction de la grille\n",
    "    # remplacer éventuellement par une syntaxe du type cu(Matrix{ComplexF32}([x+im*y for x ∈ -1:.001:1, y ∈ -1:.001:1]));\n",
    "    xs, ys, meshgrid = construct_meshgrid(Nx, Ny, x_min, x_max, y_min, y_max);\n",
    "    meshgrid = reshape(meshgrid, Nx*Ny);\n",
    "    \n",
    "    # copie sur le GPU\n",
    "    meshgrid = CuArray{elty}(meshgrid);\n",
    "    @show typeof(meshgrid);\n",
    "\n",
    "    # définition de la constante et du nombre max d'itérations\n",
    "    c = elty(c_val); # 0.5f0 en Float32  0.7885*exp(1im*2.6) \n",
    "\n",
    "    # allouer la matrice de renvoi\n",
    "    # steps = CUDA.zeros(Int32, Nx*Ny); # ancienne méthode\n",
    "    steps = CuArray{Int32}(undef, Nx*Ny);\n",
    "\n",
    "    # nombre de threads par bloc\n",
    "    numthreads = THREADS_PER_BLOCK; # plus petit entier supérieur ou égal à length(A_d)/threads\n",
    "    numblocks = cld(length(meshgrid), 256);\n",
    "\n",
    "    # exécuter en utilisant 256 threads\n",
    "    println(\"temps de génération:\");\n",
    "    CUDA.@time (@cuda threads=numthreads blocks=numblocks julia_set!(meshgrid, c, max_iter, steps));\n",
    "    \n",
    "    return xs, ys, reshape(Array(meshgrid), Nx, Ny), reshape(Array(steps), Nx, Ny)\n",
    "end"
   ]
  },
  {
   "cell_type": "markdown",
   "metadata": {},
   "source": [
    "### Courbe du dragon"
   ]
  },
  {
   "cell_type": "code",
   "execution_count": 8,
   "metadata": {},
   "outputs": [
    {
     "name": "stdout",
     "output_type": "stream",
     "text": [
      "typeof(meshgrid) = CuArray{ComplexF32, 1, CUDA.Mem.DeviceBuffer}\n",
      "temps de génération:\n",
      "  0.007961 seconds (55 CPU allocations: 3.688 KiB)\n"
     ]
    }
   ],
   "source": [
    "Nx = 800; Ny = 800;\n",
    "x_min = -1.; x_max = 1.;\n",
    "y_min = -1.25; y_max = 1.25;\n",
    "c_val = 0.36+0.1im; max_iter = 100;\n",
    "xs, ys, values, steps = compute_julia_fractal(Nx, Ny, x_min, x_max, y_min, y_max, ComplexF32, c_val, max_iter);"
   ]
  },
  {
   "cell_type": "code",
   "execution_count": null,
   "metadata": {},
   "outputs": [],
   "source": [
    "heatmap(xs, ys, steps',\n",
    "title=\"Ensemble de Julia pour c=$c_val\\n(convergence)\", titlefontsize=10,\n",
    "c = cgrad(:curl, rev=true),\n",
    "aspect_ratio=:equal,\n",
    "size=(500,600))\n",
    "# savefig(filter(x -> !isspace(x), \"julia_$(c_val)_conv.pdf\"))"
   ]
  },
  {
   "cell_type": "code",
   "execution_count": null,
   "metadata": {},
   "outputs": [],
   "source": [
    "heatmap(xs, ys, angle.(values)',\n",
    "    title=\"Ensemble de Julia pour c=$c_val\\n(argument de la limite)\", titlefontsize=10,\n",
    "    c = cgrad(:Spectral, rev=true),\n",
    "    aspect_ratio=:equal,\n",
    "    size=(500,600))\n",
    "# savefig(filter(x -> !isspace(x), \"julia_$(c_val)_argu.pdf\"))"
   ]
  },
  {
   "cell_type": "markdown",
   "metadata": {},
   "source": [
    "### Une courbe jolie"
   ]
  },
  {
   "cell_type": "code",
   "execution_count": 141,
   "metadata": {},
   "outputs": [
    {
     "name": "stdout",
     "output_type": "stream",
     "text": [
      "typeof(meshgrid) = CuArray{ComplexF32, 1, CUDA.Mem.DeviceBuffer}\n",
      "temps de génération:\n",
      "  0.008104 seconds (55 CPU allocations: 3.688 KiB)\n"
     ]
    }
   ],
   "source": [
    "Nx = 1000; Ny = 1000;\n",
    "x_min = -1.5; x_max = 1.5;\n",
    "y_min = -1.; y_max = 1.;\n",
    "c_val = -0.786+0.147im; max_iter = 100;\n",
    "xs, ys, values, steps = compute_julia_fractal(Nx, Ny, x_min, x_max, y_min, y_max, ComplexF32, c_val, max_iter);"
   ]
  },
  {
   "cell_type": "code",
   "execution_count": null,
   "metadata": {},
   "outputs": [],
   "source": [
    "heatmap(xs, ys, steps',\n",
    "title=\"Ensemble de Julia pour c=$c_val\\n(convergence)\", titlefontsize=10,\n",
    "c = cgrad(:tempo, rev=true),\n",
    "aspect_ratio=:equal,\n",
    "size=(600,500))\n",
    "# savefig(filter(x -> !isspace(x), \"julia_$(c_val)_conv.pdf\"))"
   ]
  },
  {
   "cell_type": "code",
   "execution_count": null,
   "metadata": {},
   "outputs": [],
   "source": [
    "heatmap(xs, ys, angle.(values)',\n",
    "    title=\"Ensemble de Julia pour c=$c_val\\n(argument de la limite)\", titlefontsize=10,\n",
    "    c = cgrad(:turbid, rev=true),\n",
    "    aspect_ratio=:equal,\n",
    "    size=(600,500))\n",
    "# savefig(filter(x -> !isspace(x), \"julia_$(c_val)_argu.pdf\"))"
   ]
  },
  {
   "cell_type": "code",
   "execution_count": null,
   "metadata": {},
   "outputs": [],
   "source": [
    "Nx = 800; Ny = 800;\n",
    "x_min = -1.5; x_max = 1.5;\n",
    "y_min = -1.; y_max = 1.;\n",
    "c_val = -0.4+0.6im; max_iter = 100;\n",
    "xs, ys, values, steps = compute_julia_fractal(Nx, Ny, x_min, x_max, y_min, y_max, ComplexF32, c_val, max_iter);\n",
    "\n",
    "heatmap(xs, ys, steps',\n",
    "    title=\"Ensemble de Julia pour c=$c_val\\n(convergence)\", titlefontsize=10,\n",
    "    c = cgrad(:deep, rev=true),\n",
    "    aspect_ratio=:equal,\n",
    "    size=(600,500))\n",
    "# savefig(filter(x -> !isspace(x), \"julia_$(c_val)_conv.pdf\"))"
   ]
  },
  {
   "cell_type": "markdown",
   "metadata": {},
   "source": [
    "## Méthode de Newton"
   ]
  },
  {
   "cell_type": "code",
   "execution_count": 23,
   "metadata": {},
   "outputs": [
    {
     "data": {
      "text/plain": [
       "(Polynomial(-1 + x^3), Polynomial(3*x^2))"
      ]
     },
     "metadata": {},
     "output_type": "display_data"
    }
   ],
   "source": [
    "# pour trouver un polynôme\n",
    "using Polynomials\n",
    "x = variable(Polynomial{Rational{Int}})\n",
    "p = Polynomial([-1,0,0,1], :x); # CuVector(...): requiert le scalar indexing\n",
    "∂p = derivative(p);\n",
    "p,∂p"
   ]
  },
  {
   "cell_type": "markdown",
   "metadata": {},
   "source": [
    "Voir https://en.wikipedia.org/wiki/Newton_fractal#Generalization_of_Newton_fractals pour quelques exemples de fonctions et de valeurs de α\n",
    "\n",
    "à faire:\n",
    "* passer le polynôme en argument pour le régler\n",
    "* passer le schedule d'avancement de la valeur de convergence pour le dégradé en argument également"
   ]
  },
  {
   "cell_type": "code",
   "execution_count": 80,
   "metadata": {},
   "outputs": [
    {
     "data": {
      "text/plain": [
       "compute_newton_fractal (generic function with 2 methods)"
      ]
     },
     "metadata": {},
     "output_type": "display_data"
    }
   ],
   "source": [
    "function newton_fractal!(t::CuDeviceVector{ComplexF32}, α::ComplexF32, ϵ::Float32, max_iter::Int32, colors::CuDeviceVector{Float32})\n",
    "    i = threadIdx().x + (blockIdx().x - 1) * blockDim().x\n",
    "    if i <= length(t)\n",
    "        ind = Int32(0);\n",
    "        iterexp = 0.f0;\n",
    "        step = ComplexF32(1.f0);\n",
    "        while (ind<max_iter && CUDA.abs(step)>ϵ);\n",
    "            # step = α*(1+3*t[i]^2+4*t[i]^3)/(6*t[i]+ 12*t[i]^2);\n",
    "            step = α*(t[i]^3-1)/(3*t[i]^2);\n",
    "            t[i] = t[i] - step;\n",
    "            iterexp = iterexp + .5*CUDA.exp(-CUDA.abs2(step)-0.5f0/CUDA.abs2(step))\n",
    "            ind += 1;\n",
    "        end\n",
    "        colors[i] = iterexp;\n",
    "    end\n",
    "    return nothing\n",
    "end\n",
    "\n",
    "function compute_newton_fractal(Nx, Ny, x_min, x_max, y_min, y_max, elty, α, ϵ, max_iter)\n",
    "    # construction de la grille\n",
    "    xs, ys, meshgrid = construct_meshgrid(Nx, Ny, x_min, x_max, y_min, y_max);\n",
    "    meshgrid = reshape(meshgrid, Nx*Ny);\n",
    "    # copie sur le GPU\n",
    "    meshgrid = CuArray{elty}(meshgrid);\n",
    "    \n",
    "    max_iter = Int32(max_iter);\n",
    "    \n",
    "    # allouer la matrice de renvoi\n",
    "    colors = CuArray{Float32}(undef, Nx*Ny);\n",
    "\n",
    "    # plus petit entier supérieur ou égal à length(A_d)/threads\n",
    "    numthreads = 256;\n",
    "    numblocks = cld(length(meshgrid), 256);\n",
    "    \n",
    "    println(\"temps de génération:\"); \n",
    "    # exécuter en utilisant 256 threads\n",
    "    CUDA.@time @cuda threads=numthreads blocks=numblocks newton_fractal!(meshgrid, α, ϵ, max_iter, colors);\n",
    "    \n",
    "    return xs, ys, reshape(Array(meshgrid), Nx, Ny), reshape(Array(colors), Nx, Ny)\n",
    "end"
   ]
  },
  {
   "cell_type": "code",
   "execution_count": 103,
   "metadata": {},
   "outputs": [
    {
     "name": "stdout",
     "output_type": "stream",
     "text": [
      "  0.127603 seconds (85 CPU allocations: 4.891 KiB)\n"
     ]
    }
   ],
   "source": [
    "elty = ComplexF32; # pour la conversion des types de complexes manipulés sur GPU\n",
    "α = elty(1);\n",
    "ϵ = Float32(1e-8);\n",
    "Nx = 1000; Ny = 1000;\n",
    "x_min = -1.55; x_max = 1.55;\n",
    "y_min = -1.; y_max = 1.;\n",
    "max_iter = 40;\n",
    "\n",
    "xs, ys, values, colors = compute_newton_fractal(Nx, Ny, x_min, x_max, y_min, y_max, ComplexF32, c_val, max_iter);"
   ]
  },
  {
   "cell_type": "code",
   "execution_count": null,
   "metadata": {},
   "outputs": [],
   "source": [
    "heatmap(xs, ys, log10.(1 .+colors)',\n",
    "    title=\"Fractale de Newton pour $p, α=$α\\n(mesure de la vitesse de convergence)\", titlefontsize=10,\n",
    "    c=:thermal)"
   ]
  },
  {
   "cell_type": "code",
   "execution_count": null,
   "metadata": {},
   "outputs": [],
   "source": [
    "heatmap(angle.(values'),\n",
    "    title=\"Fractale de Newton pour $p, α=$α\\n(argument de la limite)\", titlefontsize=10,\n",
    "    c=:tempo)"
   ]
  },
  {
   "cell_type": "code",
   "execution_count": 32,
   "metadata": {},
   "outputs": [
    {
     "data": {
      "text/plain": [
       "colormap (generic function with 1 method)"
      ]
     },
     "metadata": {},
     "output_type": "display_data"
    }
   ],
   "source": [
    "function colormap(z)\n",
    "    x = real(z)\n",
    "    y = imag(z)\n",
    "    a = angle(z)\n",
    "    r = mod(abs(z), 1.0)\n",
    "    g = 2 * mod(a, 0.5)\n",
    "    b = mod(x*y, 1.0)\n",
    "    return RGB(\n",
    "        (1.0 - cos(r-0.5))*8.0,\n",
    "        (1.0 - cos(g-0.5))*8.0,\n",
    "        (1.0 - cos(b-0.5))*8.0\n",
    "    )\n",
    "end"
   ]
  },
  {
   "cell_type": "markdown",
   "metadata": {},
   "source": [
    "## Ensemble de Mandelbrot"
   ]
  },
  {
   "cell_type": "code",
   "execution_count": 60,
   "metadata": {},
   "outputs": [
    {
     "data": {
      "text/plain": [
       "compute_param_type_set (generic function with 1 method)"
      ]
     },
     "metadata": {},
     "output_type": "display_data"
    }
   ],
   "source": [
    "function compute_param_type_set(Nx, Ny, x_min, x_max, y_min, y_max, elty, max_iter, fn)\n",
    "    # construction de la grille\n",
    "    xs, ys, meshgrid = construct_meshgrid(Nx, Ny, x_min, x_max, y_min, y_max);\n",
    "    meshgrid = reshape(meshgrid, Nx*Ny);\n",
    "    \n",
    "    # copie sur le GPU\n",
    "    meshgrid = CuArray{elty}(meshgrid);\n",
    "    @show typeof(meshgrid);\n",
    "\n",
    "    # allouer la matrice de renvoi\n",
    "    steps = CuArray{Int32}(undef, Nx*Ny);\n",
    "\n",
    "    # nombre de threads par bloc\n",
    "    numthreads = THREADS_PER_BLOCK; # plus petit entier supérieur ou égal à length(A_d)/threads\n",
    "    numblocks = cld(length(meshgrid), 256);\n",
    "\n",
    "    println(\"temps de génération:\");\n",
    "    CUDA.@time (@cuda threads=numthreads blocks=numblocks fn(meshgrid, max_iter, steps));\n",
    "    \n",
    "    return xs, ys, reshape(Array(meshgrid), Nx, Ny), reshape(Array(steps), Nx, Ny)\n",
    "end"
   ]
  },
  {
   "cell_type": "code",
   "execution_count": 127,
   "metadata": {},
   "outputs": [
    {
     "data": {
      "text/plain": [
       "burning_ship! (generic function with 1 method)"
      ]
     },
     "metadata": {},
     "output_type": "display_data"
    }
   ],
   "source": [
    "function mandelbrot_set!(t::CuDeviceVector{ComplexF32}, maxiter::Int64, steps::CuDeviceVector{Int32})\n",
    "    i = threadIdx().x + (blockIdx().x - 1) * blockDim().x\n",
    "    if i <= length(t)\n",
    "        ind = Int32(0);\n",
    "        z = 0.f0;\n",
    "        while (abs2(z) <= 4.f0 && ind < maxiter)\n",
    "            z = z*z + t[i]; # CUDA.abs(real(z)+1im*imag(z)) pour le burning ship\n",
    "            ind += 1;\n",
    "        end\n",
    "        steps[i] = ind;\n",
    "    end\n",
    "    return nothing\n",
    "end\n",
    "\n",
    "function burning_ship!(t::CuDeviceVector{ComplexF32}, maxiter::Int64, steps::CuDeviceVector{Int32})\n",
    "    i = threadIdx().x + (blockIdx().x - 1) * blockDim().x\n",
    "    if i <= length(t)\n",
    "        ind = Int32(0);\n",
    "        z = 0.f0;\n",
    "        while (abs2(z) <= 4.f0 && ind < maxiter)\n",
    "            z = (z+1.0f0im*(z-.43f0-1.f0im+z)^2/(3.2f0*z+2.f0))^2 + t[i]; \n",
    "            ind += 1;\n",
    "        end\n",
    "        steps[i] = ind;\n",
    "    end\n",
    "    return nothing\n",
    "end"
   ]
  },
  {
   "cell_type": "markdown",
   "metadata": {},
   "source": [
    "### Presets:\n",
    "```z = (z+1.0f0im*z^2/(5.3im-z^3))^2 + t[i]; avec x_min = -2.; x_max = .7; y_min = -1.15; y_max = 1.15;```\n",
    "```z = (z+1.0f0im*(z-.43f0-1.f0im+z)^2/(3.2f0*z+2.f0))^2 + t[i]; avec x_min = 0.; x_max = .5; y_min = 0.; y_max = .5;```"
   ]
  },
  {
   "cell_type": "code",
   "execution_count": null,
   "metadata": {},
   "outputs": [],
   "source": [
    "Nx = 1000; Ny = 1000;\n",
    "x_min = 0.2; x_max = .4; y_min = .2; y_max = .5;\n",
    "max_iter = 100;\n",
    "xs, ys, values, steps = compute_param_type_set(Nx, Ny, x_min, x_max, y_min, y_max, ComplexF32, max_iter, burning_ship!);\n",
    "heatmap(xs, ys, steps',\n",
    "    title=\"Fractale Burning Ship\\n(convergence)\", titlefontsize=10,\n",
    "    c = cgrad(:delta, rev=false),\n",
    "    aspect_ratio=:equal,\n",
    "    size=(600,500))\n",
    "# savefig(filter(x -> !isspace(x), \"mandelbrot_conv.pdf\"))"
   ]
  },
  {
   "cell_type": "code",
   "execution_count": null,
   "metadata": {},
   "outputs": [],
   "source": [
    "Nx = 1000; Ny = 1000;\n",
    "x_min = -2.; x_max = .7;\n",
    "y_min = -1.15; y_max = 1.15;\n",
    "max_iter = 100;\n",
    "xs, ys, values, steps = compute_param_type_set(Nx, Ny, x_min, x_max, y_min, y_max, ComplexF32, max_iter, mandelbrot_set!);\n",
    "heatmap(xs, ys, steps',\n",
    "    title=\"Ensemble de Mandelbrot\\n(convergence)\", titlefontsize=10,\n",
    "    c = cgrad(:delta, rev=false),\n",
    "    aspect_ratio=:equal,\n",
    "    size=(600,500))\n",
    "# savefig(filter(x -> !isspace(x), \"mandelbrot_conv.pdf\"))"
   ]
  },
  {
   "cell_type": "code",
   "execution_count": null,
   "metadata": {},
   "outputs": [],
   "source": [
    "Nx = 1000; Ny = 1000;\n",
    "x_min = 0.1; x_max = .4;\n",
    "y_min = .5; y_max = .7;\n",
    "max_iter = 100;\n",
    "xs, ys, values, steps = compute_param_type_set(Nx, Ny, x_min, x_max, y_min, y_max, ComplexF32, max_iter, mandelbrot_set!);\n",
    "heatmap(xs, ys, steps',\n",
    "    title=\"Ensemble de Mandelbrot\\n(convergence)\", titlefontsize=10,\n",
    "    c = cgrad(:curl, rev=false),\n",
    "    aspect_ratio=:equal,\n",
    "    size=(600,500))"
   ]
  },
  {
   "cell_type": "code",
   "execution_count": null,
   "metadata": {},
   "outputs": [],
   "source": []
  }
 ],
 "metadata": {
  "kernelspec": {
   "display_name": "Julia 1.7.2",
   "language": "julia",
   "name": "julia-1.7"
  },
  "language_info": {
   "file_extension": ".jl",
   "mimetype": "application/julia",
   "name": "julia",
   "version": "1.7.2"
  },
  "orig_nbformat": 4
 },
 "nbformat": 4,
 "nbformat_minor": 2
}
